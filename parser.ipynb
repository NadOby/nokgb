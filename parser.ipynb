{
 "cells": [
  {
   "cell_type": "code",
   "execution_count": 1,
   "id": "8b8aefe8-14e4-449e-bed3-29d8cbccde05",
   "metadata": {},
   "outputs": [],
   "source": [
    "f = open(\"kgb.txt\", \"r\")\n",
    "messages = f.read()\n",
    "msg_arr = messages.split(\"\\n\\n\")"
   ]
  },
  {
   "cell_type": "code",
   "execution_count": 15,
   "id": "2228ad44-aa5f-46e6-ad48-aeda3eb2a5e6",
   "metadata": {},
   "outputs": [
    {
     "name": "stdout",
     "output_type": "stream",
     "text": [
      "OrderedDict([('sender_FIO', 'Селиванов'),\n",
      "             ('sender_email', 'mars1855@mail.ru'),\n",
      "             ('message_date', '2014-09-02 16:56:16'),\n",
      "             ('Собственное имя', 'Александр'),\n",
      "             ('Отчество (если таковое имеется)', 'Радомирович'),\n",
      "             ('Адрес места жительства (места пребывания) и (или) места работы '\n",
      "              '(учебы)',\n",
      "              'Долгого д.15 кв.20, Подольск, Московская обл. Россия'),\n",
      "             ('Контактный телефон (указать код города, или мобильного '\n",
      "              'оператора)',\n",
      "              '89161848313'),\n",
      "             ('Текст обращения',\n",
      "              'Здравствуйте! Моя бабушка, Селиванова Ефросинья Григорьевна, в '\n",
      "              '1942 году была вывезена в Германию на принудительные '\n",
      "              'работы.После освобождения вернулась в Витебск.Меня интересует: '\n",
      "              'есть ли в Вашем архиве фильтрационное дело Селивановой '\n",
      "              'Ефросиньи Григорьевны? Если есть, то на каких условиях я могу '\n",
      "              'получить копию документа?')])\n"
     ]
    }
   ],
   "source": [
    "from pprint import pprint\n",
    "from collections import OrderedDict\n",
    "def parse_msg(msg):\n",
    "    a = OrderedDict()\n",
    "    for l_arr in msg.split(\"\\n\"):\n",
    "        splitted = l_arr.split(\":\", maxsplit = 1)\n",
    "        a[splitted[0].strip()] = \"\".join(splitted[1:]).strip()\n",
    "    if \"message\" in a:\n",
    "        del a[\"message\"]\n",
    "    return a\n",
    "    \n",
    "#msgs = [0, 1, 2, 12, 123, 125]\n",
    "msgs = [0,]\n",
    "for i in msgs:\n",
    "    pprint(parse_msg(msg_arr[i]))    "
   ]
  },
  {
   "cell_type": "code",
   "execution_count": 17,
   "id": "461decd6-f5dc-4b0d-bd6f-f06a5305f47f",
   "metadata": {},
   "outputs": [
    {
     "name": "stdout",
     "output_type": "stream",
     "text": [
      "39644, 39644\n"
     ]
    }
   ],
   "source": [
    "result = [dict(parse_msg(x)) for x in msg_arr]\n",
    "print(f\"{len(msg_arr)}, {len(result)}\")"
   ]
  },
  {
   "cell_type": "code",
   "execution_count": 21,
   "id": "ec60f0a1-3cf8-4e8f-bc2e-e1360ab64cf0",
   "metadata": {},
   "outputs": [],
   "source": [
    "import json\n",
    "outfile = open(\"kgb.json\", \"w\")\n",
    "json.dump(result, outfile, ensure_ascii=False, indent=4)\n",
    "outfile.close()"
   ]
  }
 ],
 "metadata": {
  "kernelspec": {
   "display_name": "Python 3 (ipykernel)",
   "language": "python",
   "name": "python3"
  },
  "language_info": {
   "codemirror_mode": {
    "name": "ipython",
    "version": 3
   },
   "file_extension": ".py",
   "mimetype": "text/x-python",
   "name": "python",
   "nbconvert_exporter": "python",
   "pygments_lexer": "ipython3",
   "version": "3.10.8"
  }
 },
 "nbformat": 4,
 "nbformat_minor": 5
}
